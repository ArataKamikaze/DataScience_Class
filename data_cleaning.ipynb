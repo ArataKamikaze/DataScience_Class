{
 "cells": [
  {
   "attachments": {},
   "cell_type": "markdown",
   "metadata": {},
   "source": [
    "# Processamento inicial dos dados e construção de um CSV legível"
   ]
  },
  {
   "cell_type": "markdown",
   "metadata": {
    "collapsed": false
   },
   "source": [
    "## File Opening and variables setup"
   ]
  },
  {
   "cell_type": "code",
   "execution_count": null,
   "metadata": {
    "collapsed": false
   },
   "outputs": [],
   "source": [
    "import re\n",
    "import pandas as pd"
   ]
  },
  {
   "cell_type": "code",
   "execution_count": null,
   "metadata": {
    "collapsed": false
   },
   "outputs": [],
   "source": [
    "data = open('PNS_2019.txt')\n",
    "dic = pd.read_excel('dicionario.xls', dtype = str)"
   ]
  },
  {
   "cell_type": "code",
   "execution_count": null,
   "metadata": {},
   "outputs": [],
   "source": [
    "sizes = dic[~dic['size'].isna()]\n",
    "#sizes = sizes.size"
   ]
  },
  {
   "cell_type": "code",
   "execution_count": null,
   "metadata": {
    "collapsed": false
   },
   "outputs": [],
   "source": [
    "sizes = sizes['size'].values.tolist()\n",
    "regex = ''\n",
    "for size in sizes:\n",
    "    regex += \"(.{\"+str(size)+\"})\"\n",
    "regex"
   ]
  },
  {
   "cell_type": "code",
   "execution_count": null,
   "metadata": {},
   "outputs": [],
   "source": []
  },
  {
   "cell_type": "markdown",
   "metadata": {
    "collapsed": false
   },
   "source": [
    "## Line Reader Method\n",
    "reads a single line from the file and returns a list containing the distinct fields"
   ]
  },
  {
   "cell_type": "code",
   "execution_count": null,
   "metadata": {
    "collapsed": false
   },
   "outputs": [],
   "source": [
    "def line_reader(string):\n",
    "    result = re.search(regex, string)\n",
    "    output = \",\".join(result.groups())\n",
    "    return output+\"\\n\""
   ]
  },
  {
   "cell_type": "markdown",
   "metadata": {
    "collapsed": false
   },
   "source": [
    "## File Printer Method\n",
    "takes the lines from the original dataset and after processing it with the line_reader() method, appends it to the output file"
   ]
  },
  {
   "cell_type": "code",
   "execution_count": null,
   "metadata": {
    "collapsed": false
   },
   "outputs": [],
   "source": [
    "def file_printer():\n",
    "    lines = data.readlines()\n",
    "    i=0\n",
    "\n",
    "    f = open('PNS_2019.csv', 'a')\n",
    "    #writer = csv.writer(f)\n",
    "    for line in lines:\n",
    "        i+=1\n",
    "        print(i)\n",
    "        row = line_reader(line)\n",
    "        f.write(row)\n",
    "        #writer.write(row)\n",
    "    f.close()"
   ]
  },
  {
   "cell_type": "code",
   "execution_count": null,
   "metadata": {
    "collapsed": false,
    "pycharm": {
     "is_executing": true
    }
   },
   "outputs": [],
   "source": [
    "file_printer()"
   ]
  },
  {
   "cell_type": "code",
   "execution_count": null,
   "metadata": {},
   "outputs": [],
   "source": [
    "names = dic[~dic['code'].isna()]\n",
    "#name = sizes['code'].values.tolist()\n",
    "#print(names['code'].duplicated().first)\n",
    "names = names.loc[~names['code'].duplicated(keep='first')]\n",
    "file = pd.read_csv('PNS_2019.CSV', header=None, names=names['code'])\n"
   ]
  },
  {
   "cell_type": "code",
   "execution_count": null,
   "metadata": {},
   "outputs": [],
   "source": [
    "file.to_csv('PNS_2019.csv')"
   ]
  },
  {
   "attachments": {},
   "cell_type": "markdown",
   "metadata": {},
   "source": [
    "# Preprocessamento\n"
   ]
  },
  {
   "cell_type": "code",
   "execution_count": 1,
   "metadata": {},
   "outputs": [],
   "source": [
    "import numpy as np\n",
    "import pandas as pd\n",
    "import seaborn as sns\n",
    "from matplotlib import pyplot as plt\n",
    "%matplotlib inline"
   ]
  },
  {
   "cell_type": "code",
   "execution_count": 2,
   "metadata": {},
   "outputs": [],
   "source": [
    "file = pd.read_csv('PNS_2019.csv')\n",
    "dic = pd.read_excel('pre_proc_dicionario.xls')"
   ]
  },
  {
   "attachments": {},
   "cell_type": "markdown",
   "metadata": {},
   "source": [
    "## Criação da base de dados reduzida\n",
    "Comentado para não substituir o dataset sem espaços\n"
   ]
  },
  {
   "cell_type": "code",
   "execution_count": 3,
   "metadata": {},
   "outputs": [],
   "source": [
    "codes = dic.code.dropna()\n",
    "pos_raw_base = file[dic.code.dropna().tolist()]\n",
    "pos_raw_base.to_csv('pre_proc_dataset.csv')"
   ]
  },
  {
   "attachments": {},
   "cell_type": "markdown",
   "metadata": {},
   "source": [
    "## Exploração dos atributos categóricos"
   ]
  },
  {
   "cell_type": "code",
   "execution_count": 4,
   "metadata": {},
   "outputs": [
    {
     "data": {
      "text/html": [
       "<div>\n",
       "<style scoped>\n",
       "    .dataframe tbody tr th:only-of-type {\n",
       "        vertical-align: middle;\n",
       "    }\n",
       "\n",
       "    .dataframe tbody tr th {\n",
       "        vertical-align: top;\n",
       "    }\n",
       "\n",
       "    .dataframe thead th {\n",
       "        text-align: right;\n",
       "    }\n",
       "</style>\n",
       "<table border=\"1\" class=\"dataframe\">\n",
       "  <thead>\n",
       "    <tr style=\"text-align: right;\">\n",
       "      <th></th>\n",
       "      <th>V0001</th>\n",
       "      <th>C006</th>\n",
       "      <th>P00901</th>\n",
       "      <th>P01101</th>\n",
       "      <th>P013</th>\n",
       "      <th>P015</th>\n",
       "      <th>P02001</th>\n",
       "      <th>P02101</th>\n",
       "      <th>P01601</th>\n",
       "      <th>P018</th>\n",
       "      <th>...</th>\n",
       "      <th>Q11007</th>\n",
       "      <th>Q11008</th>\n",
       "      <th>Q11009</th>\n",
       "      <th>N00101</th>\n",
       "      <th>P035</th>\n",
       "      <th>Q00201</th>\n",
       "      <th>Q060</th>\n",
       "      <th>Q111</th>\n",
       "      <th>C00703</th>\n",
       "      <th>Q031</th>\n",
       "    </tr>\n",
       "  </thead>\n",
       "  <tbody>\n",
       "    <tr>\n",
       "      <th>0</th>\n",
       "      <td>11</td>\n",
       "      <td>2</td>\n",
       "      <td>1</td>\n",
       "      <td>3</td>\n",
       "      <td>6</td>\n",
       "      <td>3</td>\n",
       "      <td>7</td>\n",
       "      <td>2</td>\n",
       "      <td>0</td>\n",
       "      <td>3</td>\n",
       "      <td>...</td>\n",
       "      <td></td>\n",
       "      <td></td>\n",
       "      <td></td>\n",
       "      <td>3</td>\n",
       "      <td>1</td>\n",
       "      <td>1</td>\n",
       "      <td>1</td>\n",
       "      <td></td>\n",
       "      <td>1963</td>\n",
       "      <td></td>\n",
       "    </tr>\n",
       "    <tr>\n",
       "      <th>1</th>\n",
       "      <td>11</td>\n",
       "      <td>1</td>\n",
       "      <td></td>\n",
       "      <td></td>\n",
       "      <td></td>\n",
       "      <td></td>\n",
       "      <td></td>\n",
       "      <td></td>\n",
       "      <td></td>\n",
       "      <td></td>\n",
       "      <td>...</td>\n",
       "      <td></td>\n",
       "      <td></td>\n",
       "      <td></td>\n",
       "      <td></td>\n",
       "      <td></td>\n",
       "      <td></td>\n",
       "      <td></td>\n",
       "      <td></td>\n",
       "      <td>1950</td>\n",
       "      <td></td>\n",
       "    </tr>\n",
       "    <tr>\n",
       "      <th>2</th>\n",
       "      <td>11</td>\n",
       "      <td>1</td>\n",
       "      <td></td>\n",
       "      <td></td>\n",
       "      <td></td>\n",
       "      <td></td>\n",
       "      <td></td>\n",
       "      <td></td>\n",
       "      <td></td>\n",
       "      <td></td>\n",
       "      <td>...</td>\n",
       "      <td></td>\n",
       "      <td></td>\n",
       "      <td></td>\n",
       "      <td></td>\n",
       "      <td></td>\n",
       "      <td></td>\n",
       "      <td></td>\n",
       "      <td></td>\n",
       "      <td>1987</td>\n",
       "      <td></td>\n",
       "    </tr>\n",
       "    <tr>\n",
       "      <th>3</th>\n",
       "      <td>11</td>\n",
       "      <td>1</td>\n",
       "      <td></td>\n",
       "      <td></td>\n",
       "      <td></td>\n",
       "      <td></td>\n",
       "      <td></td>\n",
       "      <td></td>\n",
       "      <td></td>\n",
       "      <td></td>\n",
       "      <td>...</td>\n",
       "      <td></td>\n",
       "      <td></td>\n",
       "      <td></td>\n",
       "      <td></td>\n",
       "      <td></td>\n",
       "      <td></td>\n",
       "      <td></td>\n",
       "      <td></td>\n",
       "      <td>9999</td>\n",
       "      <td></td>\n",
       "    </tr>\n",
       "    <tr>\n",
       "      <th>4</th>\n",
       "      <td>11</td>\n",
       "      <td>2</td>\n",
       "      <td></td>\n",
       "      <td></td>\n",
       "      <td></td>\n",
       "      <td></td>\n",
       "      <td></td>\n",
       "      <td></td>\n",
       "      <td></td>\n",
       "      <td></td>\n",
       "      <td>...</td>\n",
       "      <td></td>\n",
       "      <td></td>\n",
       "      <td></td>\n",
       "      <td></td>\n",
       "      <td></td>\n",
       "      <td></td>\n",
       "      <td></td>\n",
       "      <td></td>\n",
       "      <td>9999</td>\n",
       "      <td></td>\n",
       "    </tr>\n",
       "  </tbody>\n",
       "</table>\n",
       "<p>5 rows × 36 columns</p>\n",
       "</div>"
      ],
      "text/plain": [
       "   V0001 C006 P00901 P01101 P013 P015 P02001 P02101 P01601 P018  ... Q11007  \\\n",
       "0     11    2      1      3    6    3      7      2      0    3  ...          \n",
       "1     11    1                                                    ...          \n",
       "2     11    1                                                    ...          \n",
       "3     11    1                                                    ...          \n",
       "4     11    2                                                    ...          \n",
       "\n",
       "  Q11008 Q11009 N00101 P035 Q00201 Q060 Q111 C00703 Q031  \n",
       "0                    3    1      1    1        1963       \n",
       "1                                              1950       \n",
       "2                                              1987       \n",
       "3                                              9999       \n",
       "4                                              9999       \n",
       "\n",
       "[5 rows x 36 columns]"
      ]
     },
     "execution_count": 4,
     "metadata": {},
     "output_type": "execute_result"
    }
   ],
   "source": [
    "pos_raw_base.head()"
   ]
  },
  {
   "cell_type": "code",
   "execution_count": 5,
   "metadata": {},
   "outputs": [
    {
     "data": {
      "text/html": [
       "<div>\n",
       "<style scoped>\n",
       "    .dataframe tbody tr th:only-of-type {\n",
       "        vertical-align: middle;\n",
       "    }\n",
       "\n",
       "    .dataframe tbody tr th {\n",
       "        vertical-align: top;\n",
       "    }\n",
       "\n",
       "    .dataframe thead th {\n",
       "        text-align: right;\n",
       "    }\n",
       "</style>\n",
       "<table border=\"1\" class=\"dataframe\">\n",
       "  <thead>\n",
       "    <tr style=\"text-align: right;\">\n",
       "      <th></th>\n",
       "      <th>V0001</th>\n",
       "    </tr>\n",
       "  </thead>\n",
       "  <tbody>\n",
       "    <tr>\n",
       "      <th>count</th>\n",
       "      <td>293726.000000</td>\n",
       "    </tr>\n",
       "    <tr>\n",
       "      <th>mean</th>\n",
       "      <td>28.844716</td>\n",
       "    </tr>\n",
       "    <tr>\n",
       "      <th>std</th>\n",
       "      <td>11.762108</td>\n",
       "    </tr>\n",
       "    <tr>\n",
       "      <th>min</th>\n",
       "      <td>11.000000</td>\n",
       "    </tr>\n",
       "    <tr>\n",
       "      <th>25%</th>\n",
       "      <td>21.000000</td>\n",
       "    </tr>\n",
       "    <tr>\n",
       "      <th>50%</th>\n",
       "      <td>27.000000</td>\n",
       "    </tr>\n",
       "    <tr>\n",
       "      <th>75%</th>\n",
       "      <td>35.000000</td>\n",
       "    </tr>\n",
       "    <tr>\n",
       "      <th>max</th>\n",
       "      <td>53.000000</td>\n",
       "    </tr>\n",
       "  </tbody>\n",
       "</table>\n",
       "</div>"
      ],
      "text/plain": [
       "               V0001\n",
       "count  293726.000000\n",
       "mean       28.844716\n",
       "std        11.762108\n",
       "min        11.000000\n",
       "25%        21.000000\n",
       "50%        27.000000\n",
       "75%        35.000000\n",
       "max        53.000000"
      ]
     },
     "execution_count": 5,
     "metadata": {},
     "output_type": "execute_result"
    }
   ],
   "source": [
    "pos_raw_base.describe()"
   ]
  },
  {
   "cell_type": "code",
   "execution_count": 6,
   "metadata": {},
   "outputs": [
    {
     "name": "stdout",
     "output_type": "stream",
     "text": [
      "<class 'pandas.core.frame.DataFrame'>\n",
      "RangeIndex: 293726 entries, 0 to 293725\n",
      "Data columns (total 36 columns):\n",
      " #   Column  Non-Null Count   Dtype \n",
      "---  ------  --------------   ----- \n",
      " 0   V0001   293726 non-null  int64 \n",
      " 1   C006    293726 non-null  object\n",
      " 2   P00901  293726 non-null  object\n",
      " 3   P01101  293726 non-null  object\n",
      " 4   P013    293726 non-null  object\n",
      " 5   P015    293726 non-null  object\n",
      " 6   P02001  293726 non-null  object\n",
      " 7   P02101  293726 non-null  object\n",
      " 8   P01601  293726 non-null  object\n",
      " 9   P018    293726 non-null  object\n",
      " 10  P02002  293726 non-null  object\n",
      " 11  P02102  293726 non-null  object\n",
      " 12  P023    293726 non-null  object\n",
      " 13  P02401  293726 non-null  object\n",
      " 14  P02501  293726 non-null  object\n",
      " 15  P02602  293726 non-null  object\n",
      " 16  P02601  293726 non-null  object\n",
      " 17  P006    293726 non-null  object\n",
      " 18  Q03001  293726 non-null  object\n",
      " 19  W00101  293726 non-null  object\n",
      " 20  W00102  293726 non-null  object\n",
      " 21  W00103  293726 non-null  object\n",
      " 22  W00201  293726 non-null  object\n",
      " 23  W00202  293726 non-null  object\n",
      " 24  W00203  293726 non-null  object\n",
      " 25  Q092    293726 non-null  object\n",
      " 26  Q11007  293726 non-null  object\n",
      " 27  Q11008  293726 non-null  object\n",
      " 28  Q11009  293726 non-null  object\n",
      " 29  N00101  293726 non-null  object\n",
      " 30  P035    293726 non-null  object\n",
      " 31  Q00201  293726 non-null  object\n",
      " 32  Q060    293726 non-null  object\n",
      " 33  Q111    293726 non-null  object\n",
      " 34  C00703  293726 non-null  object\n",
      " 35  Q031    293726 non-null  object\n",
      "dtypes: int64(1), object(35)\n",
      "memory usage: 80.7+ MB\n"
     ]
    }
   ],
   "source": [
    "pos_raw_base.info()"
   ]
  },
  {
   "attachments": {},
   "cell_type": "markdown",
   "metadata": {},
   "source": [
    "## Correção dos dados pre processados\n"
   ]
  },
  {
   "cell_type": "code",
   "execution_count": 7,
   "metadata": {},
   "outputs": [
    {
     "name": "stdout",
     "output_type": "stream",
     "text": [
      "<class 'pandas.core.frame.DataFrame'>\n",
      "RangeIndex: 293726 entries, 0 to 293725\n",
      "Data columns (total 36 columns):\n",
      " #   Column  Non-Null Count   Dtype  \n",
      "---  ------  --------------   -----  \n",
      " 0   V0001   293726 non-null  int64  \n",
      " 1   C006    279382 non-null  float64\n",
      " 2   P00901  90846 non-null   float64\n",
      " 3   P01101  90846 non-null   float64\n",
      " 4   P013    90846 non-null   float64\n",
      " 5   P015    90846 non-null   float64\n",
      " 6   P02001  90846 non-null   float64\n",
      " 7   P02101  30696 non-null   float64\n",
      " 8   P01601  90846 non-null   float64\n",
      " 9   P018    90846 non-null   float64\n",
      " 10  P02002  90846 non-null   float64\n",
      " 11  P02102  41184 non-null   float64\n",
      " 12  P023    90846 non-null   float64\n",
      " 13  P02401  63104 non-null   float64\n",
      " 14  P02501  90846 non-null   float64\n",
      " 15  P02602  90846 non-null   float64\n",
      " 16  P02601  90846 non-null   float64\n",
      " 17  P006    90846 non-null   float64\n",
      " 18  Q03001  84073 non-null   float64\n",
      " 19  W00101  6569 non-null    float64\n",
      " 20  W00102  6569 non-null    float64\n",
      " 21  W00103  6730 non-null    float64\n",
      " 22  W00201  6561 non-null    float64\n",
      " 23  W00202  6561 non-null    float64\n",
      " 24  W00203  6730 non-null    float64\n",
      " 25  Q092    90846 non-null   float64\n",
      " 26  Q11007  4905 non-null    float64\n",
      " 27  Q11008  4905 non-null    float64\n",
      " 28  Q11009  4905 non-null    float64\n",
      " 29  N00101  90846 non-null   float64\n",
      " 30  P035    36398 non-null   float64\n",
      " 31  Q00201  88736 non-null   float64\n",
      " 32  Q060    82881 non-null   float64\n",
      " 33  Q111    4905 non-null    float64\n",
      " 34  C00703  279382 non-null  float64\n",
      " 35  Q031    7101 non-null    float64\n",
      "dtypes: float64(35), int64(1)\n",
      "memory usage: 80.7 MB\n",
      "None\n"
     ]
    }
   ],
   "source": [
    "with open('pre_proc_dataset.csv', 'r') as f:\n",
    "    txt = f.read().replace(' ', '')\n",
    "\n",
    "with open('pre_proc_dataset.csv', 'w') as f:\n",
    "    f.write(txt)\n",
    "\n",
    "pos_raw_base = pd.read_csv('pre_proc_dataset.csv')\n",
    "pos_raw_base=pos_raw_base.drop(pos_raw_base.columns[0], axis=1)\n",
    "pos_raw_base.to_csv('pre_proc_dataset.csv')\n",
    "print(pos_raw_base.info())"
   ]
  }
 ],
 "metadata": {
  "kernelspec": {
   "display_name": "base",
   "language": "python",
   "name": "python3"
  },
  "language_info": {
   "codemirror_mode": {
    "name": "ipython",
    "version": 3
   },
   "file_extension": ".py",
   "mimetype": "text/x-python",
   "name": "python",
   "nbconvert_exporter": "python",
   "pygments_lexer": "ipython3",
   "version": "3.9.13"
  },
  "vscode": {
   "interpreter": {
    "hash": "ad2bdc8ecc057115af97d19610ffacc2b4e99fae6737bb82f5d7fb13d2f2c186"
   }
  }
 },
 "nbformat": 4,
 "nbformat_minor": 0
}
