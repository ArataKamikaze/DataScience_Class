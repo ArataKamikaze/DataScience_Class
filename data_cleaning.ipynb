{
 "cells": [
  {
   "attachments": {},
   "cell_type": "markdown",
   "metadata": {},
   "source": [
    "# Processamento inicial dos dados e construção de um CSV legível"
   ]
  },
  {
   "cell_type": "markdown",
   "metadata": {
    "collapsed": false
   },
   "source": [
    "## File Opening and variables setup"
   ]
  },
  {
   "cell_type": "code",
   "execution_count": null,
   "metadata": {
    "collapsed": false
   },
   "outputs": [],
   "source": [
    "import re\n",
    "import pandas as pd"
   ]
  },
  {
   "cell_type": "code",
   "execution_count": null,
   "metadata": {
    "collapsed": false
   },
   "outputs": [],
   "source": [
    "data = open('PNS_2019.txt')\n",
    "dic = pd.read_excel('dicionario.xls', dtype = str)"
   ]
  },
  {
   "cell_type": "code",
   "execution_count": null,
   "metadata": {},
   "outputs": [],
   "source": [
    "sizes = dic[~dic['size'].isna()]\n",
    "#sizes = sizes.size"
   ]
  },
  {
   "cell_type": "code",
   "execution_count": null,
   "metadata": {
    "collapsed": false
   },
   "outputs": [],
   "source": [
    "sizes = sizes['size'].values.tolist()\n",
    "regex = ''\n",
    "for size in sizes:\n",
    "    regex += \"(.{\"+str(size)+\"})\"\n",
    "regex"
   ]
  },
  {
   "cell_type": "code",
   "execution_count": null,
   "metadata": {},
   "outputs": [],
   "source": []
  },
  {
   "cell_type": "markdown",
   "metadata": {
    "collapsed": false
   },
   "source": [
    "## Line Reader Method\n",
    "reads a single line from the file and returns a list containing the distinct fields"
   ]
  },
  {
   "cell_type": "code",
   "execution_count": null,
   "metadata": {
    "collapsed": false
   },
   "outputs": [],
   "source": [
    "def line_reader(string):\n",
    "    result = re.search(regex, string)\n",
    "    output = \",\".join(result.groups())\n",
    "    return output+\"\\n\""
   ]
  },
  {
   "cell_type": "markdown",
   "metadata": {
    "collapsed": false
   },
   "source": [
    "## File Printer Method\n",
    "takes the lines from the original dataset and after processing it with the line_reader() method, appends it to the output file"
   ]
  },
  {
   "cell_type": "code",
   "execution_count": null,
   "metadata": {
    "collapsed": false
   },
   "outputs": [],
   "source": [
    "def file_printer():\n",
    "    lines = data.readlines()\n",
    "    i=0\n",
    "\n",
    "    f = open('PNS_2019.csv', 'a')\n",
    "    #writer = csv.writer(f)\n",
    "    for line in lines:\n",
    "        i+=1\n",
    "        print(i)\n",
    "        row = line_reader(line)\n",
    "        f.write(row)\n",
    "        #writer.write(row)\n",
    "    f.close()"
   ]
  },
  {
   "cell_type": "code",
   "execution_count": null,
   "metadata": {
    "collapsed": false,
    "pycharm": {
     "is_executing": true
    }
   },
   "outputs": [],
   "source": [
    "file_printer()"
   ]
  },
  {
   "cell_type": "code",
   "execution_count": null,
   "metadata": {},
   "outputs": [],
   "source": [
    "names = dic[~dic['code'].isna()]\n",
    "#name = sizes['code'].values.tolist()\n",
    "#print(names['code'].duplicated().first)\n",
    "names = names.loc[~names['code'].duplicated(keep='first')]\n",
    "file = pd.read_csv('PNS_2019.CSV', header=None, names=names['code'])\n"
   ]
  },
  {
   "cell_type": "code",
   "execution_count": null,
   "metadata": {},
   "outputs": [],
   "source": [
    "file.to_csv('PNS_2019.csv')"
   ]
  },
  {
   "attachments": {},
   "cell_type": "markdown",
   "metadata": {},
   "source": [
    "# Exploração"
   ]
  },
  {
   "cell_type": "code",
   "execution_count": null,
   "metadata": {},
   "outputs": [],
   "source": [
    "import numpy as np\n",
    "import pandas as pd\n",
    "import seaborn as sns\n",
    "from matplotlib import pyplot as plt\n",
    "%matplotlib inline"
   ]
  },
  {
   "cell_type": "code",
   "execution_count": null,
   "metadata": {},
   "outputs": [],
   "source": [
    "file = pd.read_csv('PNS_2019.csv')\n",
    "dic = pd.read_excel('pre_proc_dicionario.xls')"
   ]
  },
  {
   "attachments": {},
   "cell_type": "markdown",
   "metadata": {},
   "source": [
    "## Criação da base de dados reduzida\n",
    "Comentado para não substituir o dataset sem espaços\n"
   ]
  },
  {
   "cell_type": "code",
   "execution_count": null,
   "metadata": {},
   "outputs": [],
   "source": [
    "#codes = dic.code.dropna()\n",
    "#pos_raw_base = file[dic.code.dropna().tolist()]\n",
    "#pos_raw_base.to_csv('pre_proc_dataset.csv')"
   ]
  },
  {
   "attachments": {},
   "cell_type": "markdown",
   "metadata": {},
   "source": [
    "## Exploração dos atributos categóricos"
   ]
  },
  {
   "cell_type": "code",
   "execution_count": null,
   "metadata": {},
   "outputs": [],
   "source": [
    "pos_raw_base.head()"
   ]
  },
  {
   "cell_type": "code",
   "execution_count": null,
   "metadata": {},
   "outputs": [],
   "source": [
    "pos_raw_base.describe()"
   ]
  },
  {
   "cell_type": "code",
   "execution_count": null,
   "metadata": {},
   "outputs": [],
   "source": [
    "pos_raw_base.info()"
   ]
  },
  {
   "attachments": {},
   "cell_type": "markdown",
   "metadata": {},
   "source": [
    "## Correção dos dados pre processados\n"
   ]
  },
  {
   "attachments": {},
   "cell_type": "markdown",
   "metadata": {},
   "source": [
    "um pouco de trabalho manual foi feita nessa parte, todos os espaços do dataframe foram removidos a mão, e o csv foi lido novamente."
   ]
  },
  {
   "cell_type": "code",
   "execution_count": null,
   "metadata": {},
   "outputs": [],
   "source": [
    "with open('pre_proc_dataset.csv', 'r') as f:\n",
    "    txt = f.read().replace(' ', '')\n",
    "\n",
    "with open('pre_proc_dataset.csv', 'w') as f:\n",
    "    f.write(txt)\n",
    "\n",
    "pos_raw_base = pd.read_csv('pre_proc_dataset.csv')\n",
    "pos_raw_base=pos_raw_base.drop(pos_raw_base.columns[0], axis=1)\n",
    "pos_raw_base.to_csv('pre_proc_dataset.csv')\n",
    "print(pos_raw_base.info())"
   ]
  },
  {
   "cell_type": "code",
   "execution_count": null,
   "metadata": {},
   "outputs": [],
   "source": [
    "pos_raw_base.info()"
   ]
  },
  {
   "attachments": {},
   "cell_type": "markdown",
   "metadata": {},
   "source": [
    "## exploração visual"
   ]
  },
  {
   "cell_type": "code",
   "execution_count": null,
   "metadata": {},
   "outputs": [],
   "source": [
    "pos_raw_base.corr().to_csv('correlation.csv')\n",
    "#sns.pairplot(data=pos_raw_base, hue='Q03001')"
   ]
  }
 ],
 "metadata": {
  "kernelspec": {
   "display_name": "base",
   "language": "python",
   "name": "python3"
  },
  "language_info": {
   "codemirror_mode": {
    "name": "ipython",
    "version": 3
   },
   "file_extension": ".py",
   "mimetype": "text/x-python",
   "name": "python",
   "nbconvert_exporter": "python",
   "pygments_lexer": "ipython3",
   "version": "3.9.13"
  },
  "vscode": {
   "interpreter": {
    "hash": "ad2bdc8ecc057115af97d19610ffacc2b4e99fae6737bb82f5d7fb13d2f2c186"
   }
  }
 },
 "nbformat": 4,
 "nbformat_minor": 0
}
